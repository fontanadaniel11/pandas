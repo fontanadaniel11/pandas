{
  "nbformat": 4,
  "nbformat_minor": 0,
  "metadata": {
    "colab": {
      "provenance": [],
      "include_colab_link": true
    },
    "kernelspec": {
      "name": "python3",
      "display_name": "Python 3"
    },
    "language_info": {
      "name": "python"
    }
  },
  "cells": [
    {
      "cell_type": "markdown",
      "metadata": {
        "id": "view-in-github",
        "colab_type": "text"
      },
      "source": [
        "<a href=\"https://colab.research.google.com/github/fontanadaniel11/pandas/blob/main/Groupby.ipynb\" target=\"_parent\"><img src=\"https://colab.research.google.com/assets/colab-badge.svg\" alt=\"Open In Colab\"/></a>"
      ]
    },
    {
      "cell_type": "markdown",
      "source": [
        "1. caricare il file"
      ],
      "metadata": {
        "id": "u-1CgComDTvM"
      }
    },
    {
      "cell_type": "code",
      "execution_count": null,
      "metadata": {
        "id": "LW2Oj39DDBbq"
      },
      "outputs": [],
      "source": [
        "import pandas as pd\n",
        "film = pd.read_csv(\"https://raw.githubusercontent.com/wtitze/3E/main/2010.csv\", delimiter=\";\")\n",
        "film"
      ]
    },
    {
      "cell_type": "markdown",
      "source": [
        "2. visualizzare il numero di film per ogni lingua. Ordinare in ordine decrescente sul numero di film"
      ],
      "metadata": {
        "id": "6nDqOip0DlcD"
      }
    },
    {
      "cell_type": "code",
      "source": [
        "film.groupby(\"Language\")[[\"Title\"]].count().sort_values(by=\"Title\")"
      ],
      "metadata": {
        "id": "gq2ak1RmDo5S"
      },
      "execution_count": null,
      "outputs": []
    },
    {
      "cell_type": "markdown",
      "source": [
        "3.  il numero di film per ogni nazione."
      ],
      "metadata": {
        "id": "hMuB04Q3EDPR"
      }
    },
    {
      "cell_type": "code",
      "source": [
        "film.groupby(\"Country\")[[\"Country\"]].count()"
      ],
      "metadata": {
        "id": "hZ_sgICtEG6E"
      },
      "execution_count": null,
      "outputs": []
    },
    {
      "cell_type": "markdown",
      "source": [
        "4.  il budget totale che ogni nazione ha investito nei film. Ordinare in ordine decrescente base al budget totale"
      ],
      "metadata": {
        "id": "gfZp0HNEETwN"
      }
    },
    {
      "cell_type": "code",
      "source": [
        "filmgroup = film.groupby(\"Country\")[[\"Budget\"]].sum().reset_index().sort_values(by=\"Budget\", ascending = False)\n",
        "filmgroup"
      ],
      "metadata": {
        "id": "RL68G2rJEWER"
      },
      "execution_count": null,
      "outputs": []
    },
    {
      "cell_type": "markdown",
      "source": [
        "5. la nazione che ha investito il budget più alto"
      ],
      "metadata": {
        "id": "7bkpLI5nHFu6"
      }
    },
    {
      "cell_type": "code",
      "source": [
        "filmgroup[filmgroup[\"Budget\"] == filmgroup[\"Budget\"].max()][[\"Country\"]]"
      ],
      "metadata": {
        "id": "Rx-DgkRpHI0a"
      },
      "execution_count": null,
      "outputs": []
    },
    {
      "cell_type": "markdown",
      "source": [
        "6. il budget medio che ogni nazione ha investito nei film. Ordinare in ordine decrescente base al budget medio"
      ],
      "metadata": {
        "id": "YFoVs2FAHi9K"
      }
    },
    {
      "cell_type": "code",
      "source": [
        "film.groupby(\"Country\")[[\"Budget\"]].mean().reset_index().sort_values(by=\"Budget\", ascending = False)"
      ],
      "metadata": {
        "id": "g2lRLI5JHlm6"
      },
      "execution_count": null,
      "outputs": []
    },
    {
      "cell_type": "markdown",
      "source": [
        "7. le nazioni che hanno investito, in media, un budget più basso rispetto alla media complessiva dei budget delle nazioni"
      ],
      "metadata": {
        "id": "1j0DTZGTItBq"
      }
    },
    {
      "cell_type": "code",
      "source": [
        "budgetgroup = film.groupby(\"Country\")[[\"Budget\"]].mean().reset_index()\n",
        "budgetgroup[budgetgroup[\"Budget\"] < budgetgroup[\"Budget\"].mean()][[\"Country\"]]"
      ],
      "metadata": {
        "id": "ki63-dUoIvTh"
      },
      "execution_count": null,
      "outputs": []
    },
    {
      "cell_type": "markdown",
      "source": [
        "8. il numero di film per ogni regista"
      ],
      "metadata": {
        "id": "7ljimd8eKK_i"
      }
    },
    {
      "cell_type": "code",
      "source": [
        "directorgroup = film.groupby(\"Director\")[[\"Title\"]].count().reset_index()\n",
        "directorgroup"
      ],
      "metadata": {
        "id": "k2B3zmGiKL9q"
      },
      "execution_count": null,
      "outputs": []
    },
    {
      "cell_type": "markdown",
      "source": [
        "9.  il regista che ha diretto più film"
      ],
      "metadata": {
        "id": "7XtF49nBKbGZ"
      }
    },
    {
      "cell_type": "code",
      "source": [
        "directorgroup[directorgroup[\"Title\"] == directorgroup[\"Title\"].max()][[\"Director\"]]"
      ],
      "metadata": {
        "id": "KOYGmizZKcqi"
      },
      "execution_count": null,
      "outputs": []
    },
    {
      "cell_type": "markdown",
      "source": [
        "10.  il numero di film per ogni genere"
      ],
      "metadata": {
        "id": "innr0xy1Kc_h"
      }
    },
    {
      "cell_type": "code",
      "source": [
        "film.groupby(\"Genres\")[[\"Title\"]].count().reset_index()"
      ],
      "metadata": {
        "colab": {
          "base_uri": "https://localhost:8080/",
          "height": 424
        },
        "id": "8FYzNR8cKeXa",
        "outputId": "aa606fc2-c322-4074-99bf-2221908d2998"
      },
      "execution_count": null,
      "outputs": [
        {
          "output_type": "execute_result",
          "data": {
            "text/plain": [
              "                                                Genres  Title\n",
              "0                                               Action      6\n",
              "1                                     Action|Adventure      3\n",
              "2    Action|Adventure|Animation|Comedy|Drama|Family...      1\n",
              "3    Action|Adventure|Animation|Comedy|Drama|Family...      1\n",
              "4             Action|Adventure|Animation|Comedy|Family      3\n",
              "..                                                 ...    ...\n",
              "447                            Romance|Sci-Fi|Thriller      1\n",
              "448                                             Sci-Fi      1\n",
              "449                                    Sci-Fi|Thriller      4\n",
              "450                                           Thriller     11\n",
              "451                                            Western      2\n",
              "\n",
              "[452 rows x 2 columns]"
            ],
            "text/html": [
              "\n",
              "  <div id=\"df-f68a3cf3-336c-4031-a350-76ec7c625816\">\n",
              "    <div class=\"colab-df-container\">\n",
              "      <div>\n",
              "<style scoped>\n",
              "    .dataframe tbody tr th:only-of-type {\n",
              "        vertical-align: middle;\n",
              "    }\n",
              "\n",
              "    .dataframe tbody tr th {\n",
              "        vertical-align: top;\n",
              "    }\n",
              "\n",
              "    .dataframe thead th {\n",
              "        text-align: right;\n",
              "    }\n",
              "</style>\n",
              "<table border=\"1\" class=\"dataframe\">\n",
              "  <thead>\n",
              "    <tr style=\"text-align: right;\">\n",
              "      <th></th>\n",
              "      <th>Genres</th>\n",
              "      <th>Title</th>\n",
              "    </tr>\n",
              "  </thead>\n",
              "  <tbody>\n",
              "    <tr>\n",
              "      <th>0</th>\n",
              "      <td>Action</td>\n",
              "      <td>6</td>\n",
              "    </tr>\n",
              "    <tr>\n",
              "      <th>1</th>\n",
              "      <td>Action|Adventure</td>\n",
              "      <td>3</td>\n",
              "    </tr>\n",
              "    <tr>\n",
              "      <th>2</th>\n",
              "      <td>Action|Adventure|Animation|Comedy|Drama|Family...</td>\n",
              "      <td>1</td>\n",
              "    </tr>\n",
              "    <tr>\n",
              "      <th>3</th>\n",
              "      <td>Action|Adventure|Animation|Comedy|Drama|Family...</td>\n",
              "      <td>1</td>\n",
              "    </tr>\n",
              "    <tr>\n",
              "      <th>4</th>\n",
              "      <td>Action|Adventure|Animation|Comedy|Family</td>\n",
              "      <td>3</td>\n",
              "    </tr>\n",
              "    <tr>\n",
              "      <th>...</th>\n",
              "      <td>...</td>\n",
              "      <td>...</td>\n",
              "    </tr>\n",
              "    <tr>\n",
              "      <th>447</th>\n",
              "      <td>Romance|Sci-Fi|Thriller</td>\n",
              "      <td>1</td>\n",
              "    </tr>\n",
              "    <tr>\n",
              "      <th>448</th>\n",
              "      <td>Sci-Fi</td>\n",
              "      <td>1</td>\n",
              "    </tr>\n",
              "    <tr>\n",
              "      <th>449</th>\n",
              "      <td>Sci-Fi|Thriller</td>\n",
              "      <td>4</td>\n",
              "    </tr>\n",
              "    <tr>\n",
              "      <th>450</th>\n",
              "      <td>Thriller</td>\n",
              "      <td>11</td>\n",
              "    </tr>\n",
              "    <tr>\n",
              "      <th>451</th>\n",
              "      <td>Western</td>\n",
              "      <td>2</td>\n",
              "    </tr>\n",
              "  </tbody>\n",
              "</table>\n",
              "<p>452 rows × 2 columns</p>\n",
              "</div>\n",
              "      <button class=\"colab-df-convert\" onclick=\"convertToInteractive('df-f68a3cf3-336c-4031-a350-76ec7c625816')\"\n",
              "              title=\"Convert this dataframe to an interactive table.\"\n",
              "              style=\"display:none;\">\n",
              "        \n",
              "  <svg xmlns=\"http://www.w3.org/2000/svg\" height=\"24px\"viewBox=\"0 0 24 24\"\n",
              "       width=\"24px\">\n",
              "    <path d=\"M0 0h24v24H0V0z\" fill=\"none\"/>\n",
              "    <path d=\"M18.56 5.44l.94 2.06.94-2.06 2.06-.94-2.06-.94-.94-2.06-.94 2.06-2.06.94zm-11 1L8.5 8.5l.94-2.06 2.06-.94-2.06-.94L8.5 2.5l-.94 2.06-2.06.94zm10 10l.94 2.06.94-2.06 2.06-.94-2.06-.94-.94-2.06-.94 2.06-2.06.94z\"/><path d=\"M17.41 7.96l-1.37-1.37c-.4-.4-.92-.59-1.43-.59-.52 0-1.04.2-1.43.59L10.3 9.45l-7.72 7.72c-.78.78-.78 2.05 0 2.83L4 21.41c.39.39.9.59 1.41.59.51 0 1.02-.2 1.41-.59l7.78-7.78 2.81-2.81c.8-.78.8-2.07 0-2.86zM5.41 20L4 18.59l7.72-7.72 1.47 1.35L5.41 20z\"/>\n",
              "  </svg>\n",
              "      </button>\n",
              "      \n",
              "  <style>\n",
              "    .colab-df-container {\n",
              "      display:flex;\n",
              "      flex-wrap:wrap;\n",
              "      gap: 12px;\n",
              "    }\n",
              "\n",
              "    .colab-df-convert {\n",
              "      background-color: #E8F0FE;\n",
              "      border: none;\n",
              "      border-radius: 50%;\n",
              "      cursor: pointer;\n",
              "      display: none;\n",
              "      fill: #1967D2;\n",
              "      height: 32px;\n",
              "      padding: 0 0 0 0;\n",
              "      width: 32px;\n",
              "    }\n",
              "\n",
              "    .colab-df-convert:hover {\n",
              "      background-color: #E2EBFA;\n",
              "      box-shadow: 0px 1px 2px rgba(60, 64, 67, 0.3), 0px 1px 3px 1px rgba(60, 64, 67, 0.15);\n",
              "      fill: #174EA6;\n",
              "    }\n",
              "\n",
              "    [theme=dark] .colab-df-convert {\n",
              "      background-color: #3B4455;\n",
              "      fill: #D2E3FC;\n",
              "    }\n",
              "\n",
              "    [theme=dark] .colab-df-convert:hover {\n",
              "      background-color: #434B5C;\n",
              "      box-shadow: 0px 1px 3px 1px rgba(0, 0, 0, 0.15);\n",
              "      filter: drop-shadow(0px 1px 2px rgba(0, 0, 0, 0.3));\n",
              "      fill: #FFFFFF;\n",
              "    }\n",
              "  </style>\n",
              "\n",
              "      <script>\n",
              "        const buttonEl =\n",
              "          document.querySelector('#df-f68a3cf3-336c-4031-a350-76ec7c625816 button.colab-df-convert');\n",
              "        buttonEl.style.display =\n",
              "          google.colab.kernel.accessAllowed ? 'block' : 'none';\n",
              "\n",
              "        async function convertToInteractive(key) {\n",
              "          const element = document.querySelector('#df-f68a3cf3-336c-4031-a350-76ec7c625816');\n",
              "          const dataTable =\n",
              "            await google.colab.kernel.invokeFunction('convertToInteractive',\n",
              "                                                     [key], {});\n",
              "          if (!dataTable) return;\n",
              "\n",
              "          const docLinkHtml = 'Like what you see? Visit the ' +\n",
              "            '<a target=\"_blank\" href=https://colab.research.google.com/notebooks/data_table.ipynb>data table notebook</a>'\n",
              "            + ' to learn more about interactive tables.';\n",
              "          element.innerHTML = '';\n",
              "          dataTable['output_type'] = 'display_data';\n",
              "          await google.colab.output.renderOutput(dataTable, element);\n",
              "          const docLink = document.createElement('div');\n",
              "          docLink.innerHTML = docLinkHtml;\n",
              "          element.appendChild(docLink);\n",
              "        }\n",
              "      </script>\n",
              "    </div>\n",
              "  </div>\n",
              "  "
            ]
          },
          "metadata": {},
          "execution_count": 82
        }
      ]
    }
  ]
}