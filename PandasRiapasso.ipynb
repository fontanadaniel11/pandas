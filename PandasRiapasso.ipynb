{
  "nbformat": 4,
  "nbformat_minor": 0,
  "metadata": {
    "colab": {
      "provenance": [],
      "include_colab_link": true
    },
    "kernelspec": {
      "name": "python3",
      "display_name": "Python 3"
    },
    "language_info": {
      "name": "python"
    }
  },
  "cells": [
    {
      "cell_type": "markdown",
      "metadata": {
        "id": "view-in-github",
        "colab_type": "text"
      },
      "source": [
        "<a href=\"https://colab.research.google.com/github/fontanadaniel11/pandas/blob/main/PandasRiapasso.ipynb\" target=\"_parent\"><img src=\"https://colab.research.google.com/assets/colab-badge.svg\" alt=\"Open In Colab\"/></a>"
      ]
    },
    {
      "cell_type": "code",
      "execution_count": null,
      "metadata": {
        "id": "RNJsLDCEnX_l"
      },
      "outputs": [],
      "source": [
        "import pandas as pd"
      ]
    },
    {
      "cell_type": "code",
      "source": [
        "df = pd.read_csv(\"https://gist.githubusercontent.com/tiangechen/b68782efa49a16edaf07dc2cdaa855ea/raw/0c794a9717f18b094eabab2cd6a6b9a226903577\")\n",
        "df"
      ],
      "metadata": {
        "id": "-EBXUdOsnlHF"
      },
      "execution_count": null,
      "outputs": []
    },
    {
      "cell_type": "markdown",
      "source": [
        "1. contare il numero di righe"
      ],
      "metadata": {
        "id": "k4Ktuw9Tn0G7"
      }
    },
    {
      "cell_type": "code",
      "source": [
        "len(df)"
      ],
      "metadata": {
        "id": "OEpqqq2Hnyx7"
      },
      "execution_count": null,
      "outputs": []
    },
    {
      "cell_type": "markdown",
      "source": [
        "2. visualizzare le righe dalla 20 alla 30"
      ],
      "metadata": {
        "id": "TpA6qJoPoDYz"
      }
    },
    {
      "cell_type": "code",
      "source": [
        "df[20:31]"
      ],
      "metadata": {
        "id": "uNSjZW6eosDk"
      },
      "execution_count": null,
      "outputs": []
    },
    {
      "cell_type": "markdown",
      "source": [
        "3. visualizzare righe dalla 20 alle 30 mostrando solo le colonna film e genere"
      ],
      "metadata": {
        "id": "7EBYSMkGpfR3"
      }
    },
    {
      "cell_type": "code",
      "source": [
        "df[20:31][[\"Film\" , \"Genre\"]]"
      ],
      "metadata": {
        "id": "1jpP3Dlfpl_k"
      },
      "execution_count": null,
      "outputs": []
    },
    {
      "cell_type": "code",
      "source": [
        "df.iloc[20:31, 0:2]"
      ],
      "metadata": {
        "id": "hMm3UC7IpvwV"
      },
      "execution_count": null,
      "outputs": []
    },
    {
      "cell_type": "markdown",
      "source": [
        "4. visualizzare solo le righe 10, 20, 30"
      ],
      "metadata": {
        "id": "2W2r4K-sqGlm"
      }
    },
    {
      "cell_type": "code",
      "source": [
        "df.iloc[[10, 20, 30]]"
      ],
      "metadata": {
        "id": "Tw8Uch6wqJ4w"
      },
      "execution_count": null,
      "outputs": []
    },
    {
      "cell_type": "markdown",
      "source": [
        "5. visualizzare i film che contengono la parola you nel titolo"
      ],
      "metadata": {
        "id": "azHY48cbrN4l"
      }
    },
    {
      "cell_type": "code",
      "source": [
        "df[df[\"Film\"].str.contains(\"You\")][[\"Film\"]]"
      ],
      "metadata": {
        "id": "8I1MYqelrz6B"
      },
      "execution_count": null,
      "outputs": []
    },
    {
      "cell_type": "markdown",
      "source": [
        "6. visualizzare il film con il maggiore Rotten Tomatoes %\n",
        "\n",
        "\n"
      ],
      "metadata": {
        "id": "So2EAyxxsRnx"
      }
    },
    {
      "cell_type": "code",
      "source": [
        "df[df[\"Rotten Tomatoes %\"] == df[\"Rotten Tomatoes %\"].max()][[\"Film\"]]"
      ],
      "metadata": {
        "id": "8gr_edgEsc7k"
      },
      "execution_count": null,
      "outputs": []
    },
    {
      "cell_type": "markdown",
      "source": [
        "7. visualizzare le commedie prodotte dalla universal"
      ],
      "metadata": {
        "id": "3cu756BNtJgA"
      }
    },
    {
      "cell_type": "code",
      "source": [
        "df[(df[\"Genre\"].str.contains(\"Comedy\")) & (df[\"Lead Studio\"] == \"Universal\")]"
      ],
      "metadata": {
        "id": "hIFOntQytIi0"
      },
      "execution_count": null,
      "outputs": []
    },
    {
      "cell_type": "markdown",
      "source": [
        "8. contare quanti film sono usciti nel 2010"
      ],
      "metadata": {
        "id": "PaqiCHwWts4A"
      }
    },
    {
      "cell_type": "code",
      "source": [
        "len(df[df[\"Year\"] == 2010])"
      ],
      "metadata": {
        "id": "BegeA51ntyQa"
      },
      "execution_count": null,
      "outputs": []
    },
    {
      "cell_type": "markdown",
      "source": [
        "9. contare quanti film hanno un audience score superiore alla media"
      ],
      "metadata": {
        "id": "W5ErfRFjumH4"
      }
    },
    {
      "cell_type": "code",
      "source": [
        "len(df[df[\"Audience score %\"] > df[\"Audience score %\"].mean()])"
      ],
      "metadata": {
        "id": "SQ_1-Bl6urt9"
      },
      "execution_count": null,
      "outputs": []
    },
    {
      "cell_type": "markdown",
      "source": [
        "10. contare quanti film ci sono per ogni genere. Ordinare in modo decrescente sul numero di film"
      ],
      "metadata": {
        "id": "o7BQlipVvfm5"
      }
    },
    {
      "cell_type": "code",
      "source": [
        "df.groupby(\"Genre\")[[\"Film\"]].count().sort_values(by=\"Film\", ascending = False)"
      ],
      "metadata": {
        "id": "SHO0m5zFwKTz"
      },
      "execution_count": null,
      "outputs": []
    },
    {
      "cell_type": "markdown",
      "source": [
        "11. contare quanti film sono stati prodotti in ogni anno"
      ],
      "metadata": {
        "id": "4gwPgSr9wc52"
      }
    },
    {
      "cell_type": "code",
      "source": [
        "dfanno = df.groupby(\"Year\")[[\"Film\"]].count().sort_values(by=\"Film\", ascending = False)\n",
        "dfanno"
      ],
      "metadata": {
        "id": "OxSOIt6wxD0n"
      },
      "execution_count": null,
      "outputs": []
    },
    {
      "cell_type": "markdown",
      "source": [
        "12. visualizzare l'anno con più film prodotti"
      ],
      "metadata": {
        "id": "JGe7vP7KxNYQ"
      }
    },
    {
      "cell_type": "code",
      "source": [
        "dfanno[dfanno[\"Film\"] == dfanno[\"Film\"].max()].index"
      ],
      "metadata": {
        "id": "MMhmdt1GxQXK"
      },
      "execution_count": null,
      "outputs": []
    },
    {
      "cell_type": "markdown",
      "source": [
        "13. visualizzare il totale dell'audience score per ogni genere"
      ],
      "metadata": {
        "id": "W4w-BqoXzHI6"
      }
    },
    {
      "cell_type": "code",
      "source": [
        "df.groupby(\"Genre\")[[\"Audience score %\"]].sum().sort_values(by=\"Audience score %\", ascending = False)"
      ],
      "metadata": {
        "id": "i83rewmGz5_O"
      },
      "execution_count": null,
      "outputs": []
    },
    {
      "cell_type": "markdown",
      "source": [
        "14. eliminare le righe con audience score maggiore di 50"
      ],
      "metadata": {
        "id": "4gug91q412sD"
      }
    },
    {
      "cell_type": "code",
      "source": [
        "df.drop(df[df[\"Audience score %\"] > 50].index, inplace = True)"
      ],
      "metadata": {
        "id": "R7XFJ08Y2AwY"
      },
      "execution_count": null,
      "outputs": []
    },
    {
      "cell_type": "code",
      "source": [
        "df"
      ],
      "metadata": {
        "id": "fIMNi4Ti2r4K"
      },
      "execution_count": null,
      "outputs": []
    },
    {
      "cell_type": "markdown",
      "source": [
        "15. eliminare le colonne Profitability, Worldwide Gross\t"
      ],
      "metadata": {
        "id": "LdOfJaa02_KJ"
      }
    },
    {
      "cell_type": "code",
      "source": [
        "df.drop([\"Profitability\", \"Worldwide Gross\"], axis = 1, inplace = True)"
      ],
      "metadata": {
        "id": "kxyowM2B3I47"
      },
      "execution_count": null,
      "outputs": []
    },
    {
      "cell_type": "code",
      "source": [
        "df"
      ],
      "metadata": {
        "id": "HptnFEMw3ktV"
      },
      "execution_count": null,
      "outputs": []
    }
  ]
}